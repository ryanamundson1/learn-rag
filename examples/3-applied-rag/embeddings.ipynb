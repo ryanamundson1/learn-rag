{
 "cells": [
  {
   "cell_type": "code",
   "execution_count": 1,
   "id": "4986e613",
   "metadata": {},
   "outputs": [
    {
     "name": "stdout",
     "output_type": "stream",
     "text": [
      "Path to dataset files: /Users/ramundson/.cache/kagglehub/datasets/cryptexcode/mpst-movie-plot-synopses-with-tags/versions/1\n"
     ]
    }
   ],
   "source": [
    "import requests\n",
    "\n",
    "import csv\n",
    "\n",
    "\n",
    "import kagglehub\n",
    "\n",
    "# Download latest version\n",
    "path = kagglehub.dataset_download(\"cryptexcode/mpst-movie-plot-synopses-with-tags\")\n",
    "\n",
    "print(\"Path to dataset files:\", path)"
   ]
  },
  {
   "cell_type": "code",
   "execution_count": 4,
   "id": "d566bb99-6808-4976-8476-ed05b7941b80",
   "metadata": {},
   "outputs": [
    {
     "data": {
      "text/plain": [
       "1000"
      ]
     },
     "execution_count": 4,
     "metadata": {},
     "output_type": "execute_result"
    }
   ],
   "source": [
    "import pandas as pd\n",
    "df = pd.read_csv(f'{path}/mpst_full_data.csv')\n",
    "df = df[df['plot_synopsis'].notna()] # remove any NaN values as it blows up serialization\n",
    "data = df.sample(1000).to_dict('records') # Get only 700 records. More records will make it slower to index\n",
    "len(data)"
   ]
  },
  {
   "cell_type": "code",
   "execution_count": 16,
   "id": "80c471d8",
   "metadata": {},
   "outputs": [
    {
     "data": {
      "text/plain": [
       "{'imdb_id': 'tt0831399',\n",
       " 'title': 'The Three Musketeers',\n",
       " 'plot_synopsis': \"In Venice, the musketeers Athos, Porthos, and Aramis, with the help of Milady de Winter, steal airship blueprints made by Leonardo da Vinci. However, they are betrayed by Milady, who incapacitates them and sells the blueprints to the Duke of Buckingham.\\nA year later, d'Artagnan leaves his village in Gascony for Paris in hopes of becoming a musketeer as his father was, only to learn that they were disbanded. At a rural bar, he challenges Captain Rochefort, leader of Cardinal Richelieu's guard, to a duel after being offended by him, but Rochefort merely shoots him while he's distracted. Once in Paris, d'Artagnan separately encounters Athos, Porthos and Aramis and, accidentally offending all three, schedules duels with each. Athos brings Porthos and Aramis to the duel as his seconds and d'Artagnan realizes who they are. Richelieu's guards arrive to arrest them, but, inspired by d'Artagnan, the musketeers fight together and win. All four are summoned before the young King Louis XIII and Richelieu urges him to execute them, but Queen Anne is impressed by their bravery and the king condecorates them instead.\\nRichelieu instructs Milady, now his accomplice, to plant false love letters among Queen Anne's possessions, steal her diamond necklace, and take it to the Tower of London in order to frame her as having an affair with Buckingham, which would force King Louis to execute her and declare war on England. At this point, the people would demand a more experienced leader: Richelieu himself. In order to secure her own position, Milady demands that Richelieu declare in a written authorization that she is working on behalf of France.\\nThe false letters are found and given to King Louis, who is advised by Richelieu to set up a ball at which Queen Anne would be forced to wear the necklace. If she doesn't, then her affair is real, and there will be war. Queen Anne's lady-in-waiting Constance Bonacieux discovers Richelieu's plan and pleads with the musketeers to stop him. They follow Milady and Buckingham to London, while Constance is captured by Rochefort for helping the musketeers to escape from him.\\nIn London, Milady tells Buckingham the musketeers have arrived to take revenge on him and teaches him all their tendencies in battle. D'Artagnan is captured, but turns out to be a decoy, allowing his associates to steal Buckingham's airship and rescue him. Milady's getaway coachman reveals himself as the musketeers' manservant Planchet and delivers her to his masters, who retrieve the necklace from her. Athos prepares to execute Milady for her treachery, but she leaps off the airship, apparently dying on her own terms.\\nThe musketeers depart back to Paris, only to be intercepted by Rochefort in another airship, as Milady had given Richelieu copies of da Vinci's blueprints. Rochefort offers to exchange Constance for the necklace, but captures d'Artagnan and orders an attack as soon as he retrieves the jewels. His superior airship has the upper hand and severely damages the opposing ship, but the musketeers manage to crash both onto Notre Dame. On the roof, d'Artagnan duels and ultimately kills Rochefort. Constance is sent ahead to quietly return the necklace to Queen Anne.\\nThe musketeers arrive at the ball and, for the sake of King Louis and his people, lie by claiming that Rochefort tried to sabotage an airship that Richelieu built for them, and that they executed him for his treason on Richelieu's permission. To convince the king, Athos presents Milady's authorization, which the former accepts. Richelieu, satisfied, offers the musketeers a place in his army, but they refuse, and Richelieu vows they will come to regret their decision.\\nMeanwhile, Milady is found alive at the English Channel by Buckingham, who declares his intention to exact revenge. He is then revealed to be advancing towards France with a massive fleet of battleships and airships.\",\n",
       " 'tags': 'historical fiction',\n",
       " 'split': 'train',\n",
       " 'synopsis_source': 'wikipedia'}"
      ]
     },
     "execution_count": 16,
     "metadata": {},
     "output_type": "execute_result"
    }
   ],
   "source": [
    "data[0]"
   ]
  },
  {
   "cell_type": "code",
   "execution_count": 5,
   "id": "af8bce2c-e123-498a-a5f2-cefffd17fc74",
   "metadata": {},
   "outputs": [],
   "source": [
    "from qdrant_client import models, QdrantClient\n",
    "from sentence_transformers import SentenceTransformer"
   ]
  },
  {
   "cell_type": "code",
   "execution_count": 6,
   "id": "2b0e4be5-7518-4458-bf47-6913ef9a72a9",
   "metadata": {},
   "outputs": [
    {
     "data": {
      "application/vnd.jupyter.widget-view+json": {
       "model_id": "f34d1bcc1406430595f6b45dd4dd9adb",
       "version_major": 2,
       "version_minor": 0
      },
      "text/plain": [
       "model.safetensors:   0%|          | 0.00/90.9M [00:00<?, ?B/s]"
      ]
     },
     "metadata": {},
     "output_type": "display_data"
    }
   ],
   "source": [
    "encoder = SentenceTransformer('all-MiniLM-L6-v2') # Model to create embeddings"
   ]
  },
  {
   "cell_type": "code",
   "execution_count": 17,
   "id": "5efa031d-b18a-4db1-9c34-9989a15c822b",
   "metadata": {},
   "outputs": [],
   "source": [
    "# create the vector database client\n",
    "qdrant = QdrantClient(\":memory:\") # Create in-memory Qdrant instance"
   ]
  },
  {
   "cell_type": "code",
   "execution_count": 18,
   "id": "6c03be93-a076-425e-8df1-5a8b6367e558",
   "metadata": {},
   "outputs": [
    {
     "name": "stderr",
     "output_type": "stream",
     "text": [
      "/var/folders/cj/b27zth7d1gn3ktvbyzc3h69c0000gn/T/ipykernel_94891/2896920624.py:2: DeprecationWarning: `recreate_collection` method is deprecated and will be removed in the future. Use `collection_exists` to check collection existence and `create_collection` instead.\n",
      "  qdrant.recreate_collection(\n"
     ]
    },
    {
     "data": {
      "text/plain": [
       "True"
      ]
     },
     "execution_count": 18,
     "metadata": {},
     "output_type": "execute_result"
    }
   ],
   "source": [
    "# Create collection to store wines\n",
    "qdrant.recreate_collection(\n",
    "    collection_name=\"movie_plots\",\n",
    "    vectors_config=models.VectorParams(\n",
    "        size=encoder.get_sentence_embedding_dimension(), # Vector size is defined by used model\n",
    "        distance=models.Distance.COSINE\n",
    "    )\n",
    ")"
   ]
  },
  {
   "cell_type": "code",
   "execution_count": 19,
   "id": "655d08af-758f-4338-b112-cf94045c7b0d",
   "metadata": {},
   "outputs": [],
   "source": [
    "# vectorize!\n",
    "qdrant.upload_points(\n",
    "    collection_name=\"movie_plots\",\n",
    "    points=[\n",
    "        models.PointStruct(\n",
    "            id=idx,\n",
    "            vector=encoder.encode(doc[\"plot_synopsis\"]).tolist(),\n",
    "            payload=doc,\n",
    "        ) for idx, doc in enumerate(data) # data is the variable holding all the wines\n",
    "    ]\n",
    ")"
   ]
  },
  {
   "cell_type": "code",
   "execution_count": 20,
   "id": "f23bc999",
   "metadata": {},
   "outputs": [],
   "source": [
    "user_prompt = \"Suggest me a movie about kids finding pirate treasure\""
   ]
  },
  {
   "cell_type": "code",
   "execution_count": 21,
   "id": "68c9bff5-db38-4a98-b542-cd173af11b53",
   "metadata": {},
   "outputs": [
    {
     "name": "stdout",
     "output_type": "stream",
     "text": [
      "{'imdb_id': 'tt0133240', 'title': 'Treasure Planet', 'plot_synopsis': \"The film opens in a narrative (Tony Jay) which introduces us to deep space where merchant ships sail on solar winds transporting valuable cargo. However, their journeys are not without danger as one of them is attacked by a small pirate ship commanded by the notorious Captain Nathaniel Flint, a pirate who vanished without a trace after each heist and was rumored to have stashed his loot on the mysterious Treasure Planet. The image of Flint's alien face is soon seen to be a holographic image in the storybook of young Jim Hawkins (Austin Majors), a three year-old boy who is completely immersed in the story. His mother, Sarah (Laurie Metcalf), comes into Jim's room to put him to bed, playfully tackling him, but Jim continues to read his book, even under the covers. Twelve years later and Jim has grown into a strong teenager, taking thrills from solar surfing (windsurfing on a solar-powered rocket board), his favorite pastime. Unfortunately, the aloof Jim takes his board through a restricted construction zone and is quickly apprehended by authorities.Meanwhile, back home at the Benbow Inn, Sarah tirelessly serves customers including the frequent dog-like Delbert Dopplar (David Hyde Pierce), an astrophysicist and friend of the family. He asks how Jim has been doing just as Jim is brought home, flanked by two robotic police officers. They explain that if Jim performs any further transgressions he will be locked away in juvenile hall. Later that night, while Jim listens from the roof, Sarah confides in Delbert that, ever since his father left, Jim hasn't been the same. Despite being smart, he fails in school and acts distant. At that moment, Jim notices a spaceship fall from the sky and crash at the end of the Benbow docking platform. He runs out in time to help the injured pilot, an old, snaky creature named Billy Bones (Patrick McGoohan). Jim assists him back to the inn as it begins to rain and make it through the front door before Billy collapses. Before Sarah and Delbert can do anything, Billy gives Jim a golden sphere and tells him to 'beware the cyborg' before expiring. Shortly after, the inn is raided by a gang of pirates and Sarah, Jim, and Delbert barely escape before the inn is burned to the ground. They seek refuge at Delbert's home where Jim discovers the minute mechanics of the sphere and activates it to reveal a holographic map of the galaxy. They discover that the map holds the key to finding Treasure Planet. Eager to make his mother proud and help rebuild the inn, Jim proposes to go find the Planet with Delbert's help, who is more than excited at the prospect of charting an expedition of discovery. Sarah is against the plan at first, but Delbert assures her that it may just be the right thing to help Jim sail straight.Delbert commissions a ship and a crew out of Belfast, the 'harbor' of which resembles the size and shape of a crescent moon. He and Jim depart for the RLS Legacy where they greet the stony first mate, Mr. Arrow (Roscoe Lee Browne), before meeting the stern and cat-like Captain Amelia (Emma Thompson). The crew is a motley but seemingly obedient bunch and, as the ship sets sail, Jim is sent down to work in the galley for John Silver (Brian Murray), a cyborg who Jim becomes immediately suspicious of. Silver introduces Jim to his pet amorphous blob named Morph (Dane A. Davis) that can change into any shape, and to the notion of hard work. Resentful over his menial tasks, Jim picks the wrong side of crew member Scroop (Michael McShane), a large, spidery alien with a temper quelled only by Mr. Arrow's reprimand and a quick glare from Silver. Silver berates Jim for not picking his fights wisely but the two soon begin a relationship out of mutual respect. Silver keeps Jim busy on board and grows impressed with his increasing work ethic. Along the journey, they eventually bond from a master and ward relationship to one near father and son, their experiences montaged to the song 'I'm Still Here'. The sequence features flashbacks from Jim's early life showing his father acting indifferent towards him as a child before finally leaving without warning during his pre-teens.It is clear that they enjoy each other's company and Silver praises Jim's mechanical and piloting skills when he fixes one of the ship's solar skiffs and takes it for a spin. After they return to the ship, an explosion rings out as a nearby star goes supernova. Amelia takes the ship into evasive maneuvers and instructs Jim to secure all the crew's harnesses to the mainmast. Due to the turbulence, Silver nearly falls overboard but is saved by Jim. At this time, Delbert discovers that the supernova is devolving into a black hole and is pulling the ship back into its core. The black hole releases sonic waves which rattle the ship. Delbert tells Amelia that two more will follow before they are pulled into the hole and she comes up with a plan to ride the last wave out with the ship's engines at full thrust. The next wave sends Mr. Arrow overboard but he is saved by his harness line. However, Scroop appears above him and, with a sinister look, cuts his line, sending Arrow into the abyss. Silver and Jim hang on as the last wave erupts, sending the ship out of the black hole and back into deep space. Amelia addresses the crew and congratulates Jim and Delbert for their help before calling to Mr. Arrow. Scroop appears with Arrow's hat and claims his harness was not secure, to Jim's bewilderment. Scroop gives Silver a knowing glance, to Silver's disapproval. Jim takes the news, and Amelia's reaction, hard and retreats into seclusion. Silver finds him later and tries to pick him up again, telling him that he has the makings of greatness, if only he could see that himself and take charge of it. Jim's spirits are raised and he embraces Silver, much to Silver's surprise, before going below decks to sleep. Silver admits to Morph that he'd best watch how he acts around Jim, lest the crew thinks he's going soft.The next morning, Jim is awoken early by a playful Morph. He chases him to the galley and catches him in a fruit barrel just before some of the crew comes down. Listening to their conversation, Jim learns that they're actually pirates that are planning a mutiny before they make land-fall. Silver comes into the galley, revealing himself as the mastermind and leader and expresses his discontent to anyone who makes a move before his say-so. Scroop tells Silver that he thinks Silver's gone soft for Jim and doesn't have it in him to continue with the plans. Enraged, Silver tells the crew that he cares only for Flint's treasure and that he warmed up to Jim to keep him ignorant to their plans. A cry comes from above that they've reached Treasure Planet, the exclamation coming from crewmember Onus (Corey Burton), a six-eyed alien, and the crew leaves the galley. Jim emerges from the barrel and begins to make his way up to the deck but comes face to face with Silver on his way back down. They tensely stand off before Jim lunges forward with a pair of scissors and stabs Silver in his robotic leg, causing a pressure malfunction. Silver begins the mutiny as Jim retreats into Amelia's quarters and escapes with her and Delbert to the loading bay. However, ever-playful Morph grabs the map out of Jim's pocket, holding it in his mouth. Silver appears in the bay area and he and Jim try to coax Morph to go to them with the map. Confused, Morph dives into a bundle of ropes. Silver reaches for the map but Jim grabs it and escapes into the skiff with Amelia and Delbert. As they flee towards the planet's surface, Silver takes aim at them but refuses to shoot due to his attachment to Jim. However, a mutineer shoots the ship's cannon at the skiff, causing massive damage and injury to Amelia. The skiff crashes upside down on the surface.The three compose themselves and Amelia asks for the map, but when Jim removes it from his pocket, it's revealed to be Morph in disguise. Jim realizes the map is still on the ship as a second skiff flies overhead, looking for them. Amelia orders Jim to find a safe haven for them before she collapses from her injuries. Delbert tends to the delerious Amelia while Jim scoures the alien jungle. He eventually comes into contact with a eccentric robot named B.E.N. (Martin Short), short for Bio-Electronic Navigator. B.E.N.'s memory is hazy, at best, and he shows Jim that he's actually missing a part of his central database at the back of his head. Although, from what he does remember, he informs Jim that he was Flint's own navigator and was left on the planet to protect the treasure which is located at the 'centroid of the mechanism'. Jim is less than amused by B.E.N.'s antics but is relieved to find that B.E.N.'s lair is the perfect hiding place. Soon, however, the mutinous pirates surround the hovel and Silver demands the map. Knowing that Silver is unaware of the map's true location, Jim goes out to negotiate but refuses to cooperate with Silver. He returns to the hideout where B.E.N. reveals a 'back door' into a metal-works piping system that interweaves through the planet's very core. Jim, B.E.N., and Morph head back to the ship to deactivate the laser cannon and retrieve the real map while Delbert watches over Amelia.On board, B.E.N. whimsically goes off to deactivate the cannon while Jim goes to the loading dock for the map. However, he runs into a vengeful Scroop and the two fight their way onto the main deck. B.E.N. accidentally deactivates the artificial gravity on the ship and Jim and Scroop float into the rigging. Jim is saved by grabbing onto the pirate's flag and, just before Scroop can cut him away, swings back onto the mast and kicks Scroop into the loose flag, sending him into space. B.E.N. turns the gravity back on and disables the cannon. When they return to the hideout, Jim holds out the map to Delbert only to see that Silver and the other pirates have invaded the place and tied Amelia and Delbert up. Jim is the only one who knows how to properly activate the map and thus demands that they all travel together to the treasure's location. They take the skiff and follow a laser trail to a cliff's edge where the trail disappears. An inscription on the ground reveals a plug for the map. Jim inserts it and a portal is engaged, with each planet's location on the map's hologram allowing for immediate travel; the secret to Flint's mysterious raids. Jim selects the Treasure Planet icon and the center of the planet is revealed with the treasure inside. Jim, the pirates, and B.E.N. step inside, walking through an unseen trip-laser. At the heart of the treasure, Jim discovers the remains of Captain Flint, clutching what seems to be the rest of B.E.N.'s 'mind'. Jim plugs it back into B.E.N.'s head and he suddenly remembers that Flint actually commissioned him to booby-trap the planet to make sure no one took his treasure. The very core begins to rip apart and scores of treasure, and some of the pirates, are lost in the molten center. Silver finds himself torn between collecting what treasure he can and saving Jim, hanging from a precarious ledge. Silver saves Jim and the survivors escape back to the Legacy as the planet begins to break apart. The ship becomes damaged and Amelia realizes that they'll never make it out of the planet's atmosphere in time. Jim comes up with a plan to activate the portal so that it takes them directly to Bristol. He attaches a rocket engine to a scrap of metal and surfs it ahead of the ship to the portal. Nearly failing, Jim manages to make it to the portal and enter in the coordinates, allowing himself and the ship to pass safely through just as Treasure Planet explodes.Amelia orders the remaining pirates imprisoned in the ship's barracks as they return home and offers to recommend Jim to the Interstellar Academy for his actions. Later on, Silver sneaks down to the loading bay and sets off to escape in the skiff. Jim catches him in the act but lets him go. Morph decides to stay with Jim and Silver commends his bravery and predicts that he will 'rattle the stars'. He hands over a small fortune of treasure for Jim to rebuild the inn with, and leaves. The movie ends with the Benbow Inn rebuilt, B.E.N. providing waiter services for Sarah, and Delbert and Amelia married with children. Jim arrives home with two police officers, this time serving as escorts, as he reveals himself in a military cadet uniform. As everyone celebrates his home-coming, Jim looks to the skies and sees an approving image of Silver in the clouds.\", 'tags': 'psychedelic, sci-fi, murder, flashback', 'split': 'train', 'synopsis_source': 'imdb'} score: 0.45747584339751923\n",
      "{'imdb_id': 'tt0248568', 'title': 'Treasure Island', 'plot_synopsis': 'Young Jim Hawkins Jackie Cooper) and his mother (Dorothy Peterson) run the Admiral Benbow, a tavern near Bristol, England. One dark and stormy night, during a birthday celebration, the mysterious Billy Bones (Lionel Barrymore) arrives and drunkenly talks about treasure. Soon after, Bones is visited by Black Dog (Charles McNaughton) then Pew (William V. Mong), and drops dead, leaving a chest, which he bragged contained gold and jewels. Instead of money, Jim finds a map that his friend Dr. Livesey (Otto Kruger) realizes will lead them to the famous Flint treasure. Squire Trelawney (Nigel Bruce) raises money for a voyage to the treasure island and they set sail on Captain Alexander Smollett\\'s (Lewis Stone) ship Hispaniola. Also on board is the one-legged Long John Silver (Wallace Beery) and his cronies. Even though Bones had warned Jim about a sailor with one leg, they become friends.\\nDuring the voyage, several fatal \"accidents\" happen to sailors who disapprove of Silver and his cohorts. Then, the night before landing on the island, Jim overhears Silver plotting to take the treasure and kill Smollett\\'s men. Jim goes ashore with the men, and encounters an old hermit named Ben Gunn (Chic Sale), who tells him that he has found Flint\\'s treasure. Meanwhile, Smollett (Lewis Stone) and his loyal men flee to Flint\\'s stockade on the island for safety. Silver\\'s men then attack the stockade when Smollett refuses to give them the treasure map. While the situation looks hopeless, Jim secretly goes back to the Hispaniola at night, sails it to a safe location and shoots one of the pirates in self-defense. When he returns to the stockade, Silver\\'s men are there and Silver tells them that a treaty has been signed. The pirates want to kill Jim, but Silver protects him. Dr. Livesey comes for Jim, but the boy refuses to break his word to Silver not to run away. The next day the pirates search for the treasure hold and when they find it, it is empty. When some of the pirates mutiny against Silver, Livesey (Otto Kruger) and Gunn (Charles \"Chic\" Sale) join him in the fight. Smollett then sails home with the treasure, which Gunn had hidden in his cave, and with Silver as his prisoner. Unable to stand by and let his friend be hanged, Jim frees Silver. As he sails away, Silver promises to hunt treasure with Jim again some day, as Honest John Silver.', 'tags': 'action', 'split': 'train', 'synopsis_source': 'wikipedia'} score: 0.40725509830561657\n",
      "{'imdb_id': 'tt0089218', 'title': 'The Goonies', 'plot_synopsis': 'Facing foreclosure of their homes in the Goon Docks area of Astoria, Oregon to an expanding country club, a group of children who call themselves \"the Goonies\", gather for a final weekend together. The Goonies include optimist Mikey Walsh, his older brother, Brand, the inventive Data, the talkative Mouth, and the overweight klutz Chunk. While rummaging through the Walshes\\' attic, they come across a 1632 doubloon and an old treasure map purporting to lead to the famous pirate \"One-Eyed\" Willy\\'s hoard located nearby. Evading Brand for one last adventure together, the kids find themselves at a derelict restaurant near the coast, which coincides with the doubloon and the map. They encounter the Fratellis, a family of criminals hiding out at the restaurant. Evading detection by returning outside, the kids run into Brand and two girls: the popular cheerleader Andy, who has a crush on Brand, who shares the same feelings for her, and Stef, a nerdy, tough-talking girl and Andy\\'s best friend.\\nMikey convinces Brand to return to the restaurant to explore after the Fratellis leave, discovering that the criminals are running a counterfeiting operation. As the Fratellis return, the group finds a tunnel beneath the restaurant and hides in there, sending Chunk to notify the authorities. They explore the tunnel and find the remains of a previous explorer, who also searched for the treasure, and Mikey is sure they are on the right trail. Evading various booby traps, set up by Willy, they find themselves under an old wishing well. The kids have a chance to be pulled out of the tunnel by Andy\\'s obnoxious boyfriend Troy, whose family owns the country club, but Mikey convinces the group to continue on their journey. Meanwhile, Chunk, who has escaped the restaurant, tries to flag down several passing cars, but is intercepted and kidnapped by Jake and Francis Fratelli. When the Fratellis threaten to shred his hands with an active blender, a terrified Chunk reveals not only where his friends are, but also the existence of the treasure. The Fratellis tie Chunk to a chair and lock him in the basement next to Sloth, their deformed younger brother kept chained to the wall. While the Fratellis pursue both the Goonies and the treasure, Chunk befriends Sloth, and Sloth is able to break their bonds; they form a third party headed into the tunnel.\\nMikey and the others discover the Fratellis on their trail, and hasten through the remaining traps. They ultimately find an enclosed grotto and Willy\\'s pirate ship, the Inferno, which has been sealed in the cave for centuries. They explore the ship, finding a hoard of treasure in front of the skeletal remains of Willy and his crew. Mikey gives a sober speech to Willy, naming him as the first \"Goonie\", then he and the others fill their pockets with riches; Mikey insists that the coins directly in front of Willy remain untouched, as Willy\\'s tribute. As they leave, however, the Fratellis have already caught up with them. They make them drop the treasure before threatening to kill them by forcing them to walk the plank, when suddenly Sloth and Chunk arrive. Sloth, angered by how the other Fratellis have treated him in the past, easily subdues them and helps the rest of the Goonies to escape the boat. Though Mikey insists they go back for the treasure, Brand worries more for their lives, and the group escapes through a hole in the grotto, eventually arriving on a nearby beach shore. Police quickly come to their help and reunite them with their families.\\nMeanwhile, the Fratellis free themselves and begin to loot the boat. When they take the coins that Mikey had left earlier, they trigger another booby trap that causes the grotto to start to cave in. The Fratellis are forced to abandon the loot and flee to the beach, where police quickly take them into custody. As the Goonies are taken care of by their families, including Chunk offering to bring Sloth into his family, the owners of the country club show up and demand that Mr. Walsh sign away their homes and the Goon Docks. As he is about to do so, their housekeeper, Rosalita, finds Mikey\\'s marble bag in his wet clothes, filled with gems that the Fratellis had neglected to confiscate. Mr. Walsh triumphantly tears up the paperwork, as the gems are more than enough to negate the foreclosure. As the Goonies celebrate, the attention of all on the beach is caught by the sight of the unmanned Inferno, now clear of the grotto, and the Goonies wave her goodbye as she sets off once more upon the sea.', 'tags': 'cult, action, murder, violence, fantasy', 'split': 'val', 'synopsis_source': 'wikipedia'} score: 0.4050444173345208\n"
     ]
    },
    {
     "name": "stderr",
     "output_type": "stream",
     "text": [
      "/var/folders/cj/b27zth7d1gn3ktvbyzc3h69c0000gn/T/ipykernel_94891/1047618590.py:3: DeprecationWarning: `search` method is deprecated and will be removed in the future. Use `query_points` instead.\n",
      "  hits = qdrant.search(\n"
     ]
    }
   ],
   "source": [
    "# Search time for awesome wines!\n",
    "\n",
    "hits = qdrant.search(\n",
    "    collection_name=\"movie_plots\",\n",
    "    query_vector=encoder.encode(user_prompt).tolist(),\n",
    "    limit=3\n",
    ")\n",
    "for hit in hits:\n",
    "  print(hit.payload, \"score:\", hit.score)"
   ]
  },
  {
   "cell_type": "code",
   "execution_count": 22,
   "id": "33243e5d-9e0d-4ec4-98e9-3fc56b8bdb10",
   "metadata": {},
   "outputs": [
    {
     "data": {
      "text/plain": [
       "[{'imdb_id': 'tt0133240',\n",
       "  'title': 'Treasure Planet',\n",
       "  'plot_synopsis': \"The film opens in a narrative (Tony Jay) which introduces us to deep space where merchant ships sail on solar winds transporting valuable cargo. However, their journeys are not without danger as one of them is attacked by a small pirate ship commanded by the notorious Captain Nathaniel Flint, a pirate who vanished without a trace after each heist and was rumored to have stashed his loot on the mysterious Treasure Planet. The image of Flint's alien face is soon seen to be a holographic image in the storybook of young Jim Hawkins (Austin Majors), a three year-old boy who is completely immersed in the story. His mother, Sarah (Laurie Metcalf), comes into Jim's room to put him to bed, playfully tackling him, but Jim continues to read his book, even under the covers. Twelve years later and Jim has grown into a strong teenager, taking thrills from solar surfing (windsurfing on a solar-powered rocket board), his favorite pastime. Unfortunately, the aloof Jim takes his board through a restricted construction zone and is quickly apprehended by authorities.Meanwhile, back home at the Benbow Inn, Sarah tirelessly serves customers including the frequent dog-like Delbert Dopplar (David Hyde Pierce), an astrophysicist and friend of the family. He asks how Jim has been doing just as Jim is brought home, flanked by two robotic police officers. They explain that if Jim performs any further transgressions he will be locked away in juvenile hall. Later that night, while Jim listens from the roof, Sarah confides in Delbert that, ever since his father left, Jim hasn't been the same. Despite being smart, he fails in school and acts distant. At that moment, Jim notices a spaceship fall from the sky and crash at the end of the Benbow docking platform. He runs out in time to help the injured pilot, an old, snaky creature named Billy Bones (Patrick McGoohan). Jim assists him back to the inn as it begins to rain and make it through the front door before Billy collapses. Before Sarah and Delbert can do anything, Billy gives Jim a golden sphere and tells him to 'beware the cyborg' before expiring. Shortly after, the inn is raided by a gang of pirates and Sarah, Jim, and Delbert barely escape before the inn is burned to the ground. They seek refuge at Delbert's home where Jim discovers the minute mechanics of the sphere and activates it to reveal a holographic map of the galaxy. They discover that the map holds the key to finding Treasure Planet. Eager to make his mother proud and help rebuild the inn, Jim proposes to go find the Planet with Delbert's help, who is more than excited at the prospect of charting an expedition of discovery. Sarah is against the plan at first, but Delbert assures her that it may just be the right thing to help Jim sail straight.Delbert commissions a ship and a crew out of Belfast, the 'harbor' of which resembles the size and shape of a crescent moon. He and Jim depart for the RLS Legacy where they greet the stony first mate, Mr. Arrow (Roscoe Lee Browne), before meeting the stern and cat-like Captain Amelia (Emma Thompson). The crew is a motley but seemingly obedient bunch and, as the ship sets sail, Jim is sent down to work in the galley for John Silver (Brian Murray), a cyborg who Jim becomes immediately suspicious of. Silver introduces Jim to his pet amorphous blob named Morph (Dane A. Davis) that can change into any shape, and to the notion of hard work. Resentful over his menial tasks, Jim picks the wrong side of crew member Scroop (Michael McShane), a large, spidery alien with a temper quelled only by Mr. Arrow's reprimand and a quick glare from Silver. Silver berates Jim for not picking his fights wisely but the two soon begin a relationship out of mutual respect. Silver keeps Jim busy on board and grows impressed with his increasing work ethic. Along the journey, they eventually bond from a master and ward relationship to one near father and son, their experiences montaged to the song 'I'm Still Here'. The sequence features flashbacks from Jim's early life showing his father acting indifferent towards him as a child before finally leaving without warning during his pre-teens.It is clear that they enjoy each other's company and Silver praises Jim's mechanical and piloting skills when he fixes one of the ship's solar skiffs and takes it for a spin. After they return to the ship, an explosion rings out as a nearby star goes supernova. Amelia takes the ship into evasive maneuvers and instructs Jim to secure all the crew's harnesses to the mainmast. Due to the turbulence, Silver nearly falls overboard but is saved by Jim. At this time, Delbert discovers that the supernova is devolving into a black hole and is pulling the ship back into its core. The black hole releases sonic waves which rattle the ship. Delbert tells Amelia that two more will follow before they are pulled into the hole and she comes up with a plan to ride the last wave out with the ship's engines at full thrust. The next wave sends Mr. Arrow overboard but he is saved by his harness line. However, Scroop appears above him and, with a sinister look, cuts his line, sending Arrow into the abyss. Silver and Jim hang on as the last wave erupts, sending the ship out of the black hole and back into deep space. Amelia addresses the crew and congratulates Jim and Delbert for their help before calling to Mr. Arrow. Scroop appears with Arrow's hat and claims his harness was not secure, to Jim's bewilderment. Scroop gives Silver a knowing glance, to Silver's disapproval. Jim takes the news, and Amelia's reaction, hard and retreats into seclusion. Silver finds him later and tries to pick him up again, telling him that he has the makings of greatness, if only he could see that himself and take charge of it. Jim's spirits are raised and he embraces Silver, much to Silver's surprise, before going below decks to sleep. Silver admits to Morph that he'd best watch how he acts around Jim, lest the crew thinks he's going soft.The next morning, Jim is awoken early by a playful Morph. He chases him to the galley and catches him in a fruit barrel just before some of the crew comes down. Listening to their conversation, Jim learns that they're actually pirates that are planning a mutiny before they make land-fall. Silver comes into the galley, revealing himself as the mastermind and leader and expresses his discontent to anyone who makes a move before his say-so. Scroop tells Silver that he thinks Silver's gone soft for Jim and doesn't have it in him to continue with the plans. Enraged, Silver tells the crew that he cares only for Flint's treasure and that he warmed up to Jim to keep him ignorant to their plans. A cry comes from above that they've reached Treasure Planet, the exclamation coming from crewmember Onus (Corey Burton), a six-eyed alien, and the crew leaves the galley. Jim emerges from the barrel and begins to make his way up to the deck but comes face to face with Silver on his way back down. They tensely stand off before Jim lunges forward with a pair of scissors and stabs Silver in his robotic leg, causing a pressure malfunction. Silver begins the mutiny as Jim retreats into Amelia's quarters and escapes with her and Delbert to the loading bay. However, ever-playful Morph grabs the map out of Jim's pocket, holding it in his mouth. Silver appears in the bay area and he and Jim try to coax Morph to go to them with the map. Confused, Morph dives into a bundle of ropes. Silver reaches for the map but Jim grabs it and escapes into the skiff with Amelia and Delbert. As they flee towards the planet's surface, Silver takes aim at them but refuses to shoot due to his attachment to Jim. However, a mutineer shoots the ship's cannon at the skiff, causing massive damage and injury to Amelia. The skiff crashes upside down on the surface.The three compose themselves and Amelia asks for the map, but when Jim removes it from his pocket, it's revealed to be Morph in disguise. Jim realizes the map is still on the ship as a second skiff flies overhead, looking for them. Amelia orders Jim to find a safe haven for them before she collapses from her injuries. Delbert tends to the delerious Amelia while Jim scoures the alien jungle. He eventually comes into contact with a eccentric robot named B.E.N. (Martin Short), short for Bio-Electronic Navigator. B.E.N.'s memory is hazy, at best, and he shows Jim that he's actually missing a part of his central database at the back of his head. Although, from what he does remember, he informs Jim that he was Flint's own navigator and was left on the planet to protect the treasure which is located at the 'centroid of the mechanism'. Jim is less than amused by B.E.N.'s antics but is relieved to find that B.E.N.'s lair is the perfect hiding place. Soon, however, the mutinous pirates surround the hovel and Silver demands the map. Knowing that Silver is unaware of the map's true location, Jim goes out to negotiate but refuses to cooperate with Silver. He returns to the hideout where B.E.N. reveals a 'back door' into a metal-works piping system that interweaves through the planet's very core. Jim, B.E.N., and Morph head back to the ship to deactivate the laser cannon and retrieve the real map while Delbert watches over Amelia.On board, B.E.N. whimsically goes off to deactivate the cannon while Jim goes to the loading dock for the map. However, he runs into a vengeful Scroop and the two fight their way onto the main deck. B.E.N. accidentally deactivates the artificial gravity on the ship and Jim and Scroop float into the rigging. Jim is saved by grabbing onto the pirate's flag and, just before Scroop can cut him away, swings back onto the mast and kicks Scroop into the loose flag, sending him into space. B.E.N. turns the gravity back on and disables the cannon. When they return to the hideout, Jim holds out the map to Delbert only to see that Silver and the other pirates have invaded the place and tied Amelia and Delbert up. Jim is the only one who knows how to properly activate the map and thus demands that they all travel together to the treasure's location. They take the skiff and follow a laser trail to a cliff's edge where the trail disappears. An inscription on the ground reveals a plug for the map. Jim inserts it and a portal is engaged, with each planet's location on the map's hologram allowing for immediate travel; the secret to Flint's mysterious raids. Jim selects the Treasure Planet icon and the center of the planet is revealed with the treasure inside. Jim, the pirates, and B.E.N. step inside, walking through an unseen trip-laser. At the heart of the treasure, Jim discovers the remains of Captain Flint, clutching what seems to be the rest of B.E.N.'s 'mind'. Jim plugs it back into B.E.N.'s head and he suddenly remembers that Flint actually commissioned him to booby-trap the planet to make sure no one took his treasure. The very core begins to rip apart and scores of treasure, and some of the pirates, are lost in the molten center. Silver finds himself torn between collecting what treasure he can and saving Jim, hanging from a precarious ledge. Silver saves Jim and the survivors escape back to the Legacy as the planet begins to break apart. The ship becomes damaged and Amelia realizes that they'll never make it out of the planet's atmosphere in time. Jim comes up with a plan to activate the portal so that it takes them directly to Bristol. He attaches a rocket engine to a scrap of metal and surfs it ahead of the ship to the portal. Nearly failing, Jim manages to make it to the portal and enter in the coordinates, allowing himself and the ship to pass safely through just as Treasure Planet explodes.Amelia orders the remaining pirates imprisoned in the ship's barracks as they return home and offers to recommend Jim to the Interstellar Academy for his actions. Later on, Silver sneaks down to the loading bay and sets off to escape in the skiff. Jim catches him in the act but lets him go. Morph decides to stay with Jim and Silver commends his bravery and predicts that he will 'rattle the stars'. He hands over a small fortune of treasure for Jim to rebuild the inn with, and leaves. The movie ends with the Benbow Inn rebuilt, B.E.N. providing waiter services for Sarah, and Delbert and Amelia married with children. Jim arrives home with two police officers, this time serving as escorts, as he reveals himself in a military cadet uniform. As everyone celebrates his home-coming, Jim looks to the skies and sees an approving image of Silver in the clouds.\",\n",
       "  'tags': 'psychedelic, sci-fi, murder, flashback',\n",
       "  'split': 'train',\n",
       "  'synopsis_source': 'imdb'},\n",
       " {'imdb_id': 'tt0248568',\n",
       "  'title': 'Treasure Island',\n",
       "  'plot_synopsis': 'Young Jim Hawkins Jackie Cooper) and his mother (Dorothy Peterson) run the Admiral Benbow, a tavern near Bristol, England. One dark and stormy night, during a birthday celebration, the mysterious Billy Bones (Lionel Barrymore) arrives and drunkenly talks about treasure. Soon after, Bones is visited by Black Dog (Charles McNaughton) then Pew (William V. Mong), and drops dead, leaving a chest, which he bragged contained gold and jewels. Instead of money, Jim finds a map that his friend Dr. Livesey (Otto Kruger) realizes will lead them to the famous Flint treasure. Squire Trelawney (Nigel Bruce) raises money for a voyage to the treasure island and they set sail on Captain Alexander Smollett\\'s (Lewis Stone) ship Hispaniola. Also on board is the one-legged Long John Silver (Wallace Beery) and his cronies. Even though Bones had warned Jim about a sailor with one leg, they become friends.\\nDuring the voyage, several fatal \"accidents\" happen to sailors who disapprove of Silver and his cohorts. Then, the night before landing on the island, Jim overhears Silver plotting to take the treasure and kill Smollett\\'s men. Jim goes ashore with the men, and encounters an old hermit named Ben Gunn (Chic Sale), who tells him that he has found Flint\\'s treasure. Meanwhile, Smollett (Lewis Stone) and his loyal men flee to Flint\\'s stockade on the island for safety. Silver\\'s men then attack the stockade when Smollett refuses to give them the treasure map. While the situation looks hopeless, Jim secretly goes back to the Hispaniola at night, sails it to a safe location and shoots one of the pirates in self-defense. When he returns to the stockade, Silver\\'s men are there and Silver tells them that a treaty has been signed. The pirates want to kill Jim, but Silver protects him. Dr. Livesey comes for Jim, but the boy refuses to break his word to Silver not to run away. The next day the pirates search for the treasure hold and when they find it, it is empty. When some of the pirates mutiny against Silver, Livesey (Otto Kruger) and Gunn (Charles \"Chic\" Sale) join him in the fight. Smollett then sails home with the treasure, which Gunn had hidden in his cave, and with Silver as his prisoner. Unable to stand by and let his friend be hanged, Jim frees Silver. As he sails away, Silver promises to hunt treasure with Jim again some day, as Honest John Silver.',\n",
       "  'tags': 'action',\n",
       "  'split': 'train',\n",
       "  'synopsis_source': 'wikipedia'},\n",
       " {'imdb_id': 'tt0089218',\n",
       "  'title': 'The Goonies',\n",
       "  'plot_synopsis': 'Facing foreclosure of their homes in the Goon Docks area of Astoria, Oregon to an expanding country club, a group of children who call themselves \"the Goonies\", gather for a final weekend together. The Goonies include optimist Mikey Walsh, his older brother, Brand, the inventive Data, the talkative Mouth, and the overweight klutz Chunk. While rummaging through the Walshes\\' attic, they come across a 1632 doubloon and an old treasure map purporting to lead to the famous pirate \"One-Eyed\" Willy\\'s hoard located nearby. Evading Brand for one last adventure together, the kids find themselves at a derelict restaurant near the coast, which coincides with the doubloon and the map. They encounter the Fratellis, a family of criminals hiding out at the restaurant. Evading detection by returning outside, the kids run into Brand and two girls: the popular cheerleader Andy, who has a crush on Brand, who shares the same feelings for her, and Stef, a nerdy, tough-talking girl and Andy\\'s best friend.\\nMikey convinces Brand to return to the restaurant to explore after the Fratellis leave, discovering that the criminals are running a counterfeiting operation. As the Fratellis return, the group finds a tunnel beneath the restaurant and hides in there, sending Chunk to notify the authorities. They explore the tunnel and find the remains of a previous explorer, who also searched for the treasure, and Mikey is sure they are on the right trail. Evading various booby traps, set up by Willy, they find themselves under an old wishing well. The kids have a chance to be pulled out of the tunnel by Andy\\'s obnoxious boyfriend Troy, whose family owns the country club, but Mikey convinces the group to continue on their journey. Meanwhile, Chunk, who has escaped the restaurant, tries to flag down several passing cars, but is intercepted and kidnapped by Jake and Francis Fratelli. When the Fratellis threaten to shred his hands with an active blender, a terrified Chunk reveals not only where his friends are, but also the existence of the treasure. The Fratellis tie Chunk to a chair and lock him in the basement next to Sloth, their deformed younger brother kept chained to the wall. While the Fratellis pursue both the Goonies and the treasure, Chunk befriends Sloth, and Sloth is able to break their bonds; they form a third party headed into the tunnel.\\nMikey and the others discover the Fratellis on their trail, and hasten through the remaining traps. They ultimately find an enclosed grotto and Willy\\'s pirate ship, the Inferno, which has been sealed in the cave for centuries. They explore the ship, finding a hoard of treasure in front of the skeletal remains of Willy and his crew. Mikey gives a sober speech to Willy, naming him as the first \"Goonie\", then he and the others fill their pockets with riches; Mikey insists that the coins directly in front of Willy remain untouched, as Willy\\'s tribute. As they leave, however, the Fratellis have already caught up with them. They make them drop the treasure before threatening to kill them by forcing them to walk the plank, when suddenly Sloth and Chunk arrive. Sloth, angered by how the other Fratellis have treated him in the past, easily subdues them and helps the rest of the Goonies to escape the boat. Though Mikey insists they go back for the treasure, Brand worries more for their lives, and the group escapes through a hole in the grotto, eventually arriving on a nearby beach shore. Police quickly come to their help and reunite them with their families.\\nMeanwhile, the Fratellis free themselves and begin to loot the boat. When they take the coins that Mikey had left earlier, they trigger another booby trap that causes the grotto to start to cave in. The Fratellis are forced to abandon the loot and flee to the beach, where police quickly take them into custody. As the Goonies are taken care of by their families, including Chunk offering to bring Sloth into his family, the owners of the country club show up and demand that Mr. Walsh sign away their homes and the Goon Docks. As he is about to do so, their housekeeper, Rosalita, finds Mikey\\'s marble bag in his wet clothes, filled with gems that the Fratellis had neglected to confiscate. Mr. Walsh triumphantly tears up the paperwork, as the gems are more than enough to negate the foreclosure. As the Goonies celebrate, the attention of all on the beach is caught by the sight of the unmanned Inferno, now clear of the grotto, and the Goonies wave her goodbye as she sets off once more upon the sea.',\n",
       "  'tags': 'cult, action, murder, violence, fantasy',\n",
       "  'split': 'val',\n",
       "  'synopsis_source': 'wikipedia'}]"
      ]
     },
     "execution_count": 22,
     "metadata": {},
     "output_type": "execute_result"
    }
   ],
   "source": [
    "# define a variable to hold the search results\n",
    "search_results = [hit.payload for hit in hits]\n",
    "search_results"
   ]
  },
  {
   "cell_type": "code",
   "execution_count": 26,
   "id": "e6c2b91e",
   "metadata": {},
   "outputs": [
    {
     "name": "stdout",
     "output_type": "stream",
     "text": [
      "ChatCompletionMessage(content='}\\n\\nThe user is interested in movies that involve adventure, have high stakes, and have a group of young characters on a quest. The user mentioned specific movies like \"Pirates of the Caribbean\" and \"Treasure Planet,\" which are both action-packed and have treasure-hunting elements.\\n\\nSo, I need to find more movies with similar themes: high-stakes adventures, treasure hunting, and groups of young characters. Maybe something with a shipwreck or searching for a hidden treasure. Perhaps including some conflict with pirates or other antagonists.\\n\\nThinking about this, \"The Goonies\" comes to mind as well, which is another classic movie involving kids searching for treasure and dealing with criminals.\\n\\nI should look for movies that feature young characters facing challenges while on an adventure, possibly involving treasure or high-stakes situations. Maybe something with a shipwreck or a mysterious map leading them into danger.\\n\\nAlso, considering the user\\'s mention of \"Pirates of the Caribbean,\" which has action and adventure, maybe there are other similar films in that genre.\\n\\nAnother thought: \"Minecraft: The Story of Mooria\" is inspired by the game, so it might involve young characters on a quest, though I\\'m not sure if it fits exactly with pirates or high stakes. But considering the themes of exploration and treasure, it could be relevant.\\n\\nI need to ensure the movies are engaging for young audiences, have elements of adventure, possible danger, and maybe some action. So perhaps looking into family-friendly adventure films where kids are central characters on a quest.\\n\\nAnother angle: maybe \"Jumanji: Welcome to the Jungle\" has a similar feel with high stakes and a treasure aspect, though it\\'s more of an adventure gamehunt.\\n\\nAlternatively, considering \"The Secret Life of Walter Supton,\" which is more of an adventure where young people search for treasure, but I\\'m not sure about its specifics.\\n\\nI should also think about the treasure aspect. Maybe \"Cube\" or other escape room type movies, but those are more sci-fi. Not quite fitting the pirate theme, but still high stakes.\\n\\nWait, perhaps \"The Lord of the Rings\" has elements with a group of young characters on a quest, though it\\'s more epic fantasy. But considering the user mentioned \"Pirates,\" which is more action and adventure with pirates, maybe \"Brotherhood of the Wolf\" could be another option, but that\\'s more dark and historical.\\n\\nHmm, perhaps I should list movies where a group of young people go on an adventurous quest, facing challenges like treasure hunts, shipwrecks, or dealing with antagonists.\\n\\nMaybe \"Flightplan,\" though that\\'s more about survival rather than treasure. Alternatively, \"The Parent Trap,\" but that\\'s more of a family movie without the high stakes.\\n\\nAnother idea: \"Holes\" is a good choice where young characters are in an adventure searching for treasure in a desert, dealing with antagonists, and facing challenges. That fits well with high stakes and group dynamics.\\n\\nSo, compiling all these thoughts, I can suggest movies that involve young groups on adventures, dealing with treasure, pirates, or other high-stakes situations.\\n</think>\\n\\nBased on your interests in adventure, high-stakes situations, and engaging group dynamics among young characters, here is a curated list of movies that fit well:\\n\\n1. **Pirates of the Caribbean: The Curse of the Black Pearl** - A thrilling adventure with Johnny Depp as Jack Sparrow, involving treasure hunts and epic battles against pirates.\\n2. **Treasure Planet** - A space-adaptation of Treasure Island, featuring a young crew on a spaceship searching for fortune while facing alien threats.\\n3. **The Goonies** - A cult classic where kids uncover an old shipwreck, leading to thrilling treasure searches and encounters with antagonistic criminals.\\n4. **Holes** - Young characters endure desert challenges to find hidden treasure, dealing with antagonist drillers, in a heart-wrenching adventure.\\n5. **Jumanji: Welcome to the Jungle** - Combines elements of high-stakes gameplay with treasure quests and adventurous escapades in a jungle setting.\\n6. **Minecraft: The Story of Mooria** - Inspired by the game, it follows young characters on an epic quest through various worlds, involving exploration and treasure discovery.\\n\\nEach film offers unique settings but shares common themes of adventure, treasure hunts, and group challenges, ensuring high engagement and excitement.', refusal=None, role='assistant', audio=None, function_call=None, tool_calls=None)\n"
     ]
    }
   ],
   "source": [
    "# Now time to connect to the local large language model\n",
    "from openai import OpenAI\n",
    "client = OpenAI(\n",
    "    base_url=\"http://localhost:1234/v1\", # \"http://<Your api-server IP>:port\"\n",
    "    api_key = \"sk-no-key-required\"\n",
    ")\n",
    "completion = client.chat.completions.create(\n",
    "    model=\"LM_STUDIO_DEEPSEEK\",\n",
    "    messages=[\n",
    "        {\"role\": \"system\", \"content\": \"You are chatbot, a movie specialist. Your top priority is to help find movies, summarize and suggest movies.\"},\n",
    "        {\"role\": \"user\", \"content\": \"Suggest me a movie about kids finding pirate treasure\"},\n",
    "        {\"role\": \"assistant\", \"content\": str(search_results)}\n",
    "    ]\n",
    ")\n",
    "print(completion.choices[0].message)"
   ]
  }
 ],
 "metadata": {
  "kernelspec": {
   "display_name": ".venv",
   "language": "python",
   "name": "python3"
  },
  "language_info": {
   "codemirror_mode": {
    "name": "ipython",
    "version": 3
   },
   "file_extension": ".py",
   "mimetype": "text/x-python",
   "name": "python",
   "nbconvert_exporter": "python",
   "pygments_lexer": "ipython3",
   "version": "3.10.2"
  }
 },
 "nbformat": 4,
 "nbformat_minor": 5
}
